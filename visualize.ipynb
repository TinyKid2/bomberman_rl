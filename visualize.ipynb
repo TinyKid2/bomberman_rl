{
 "cells": [
  {
   "cell_type": "code",
   "execution_count": 2,
   "id": "edcb301b",
   "metadata": {},
   "outputs": [
    {
     "data": {
      "image/png": "[encoded data removed]",
      "text/plain": [
       "<Figure size 1000x700 with 1 Axes>"
      ]
     },
     "metadata": {},
     "output_type": "display_data"
    }
   ],
   "source": [
    "import matplotlib.pyplot as plt\n",
    "import seaborn as sns\n",
    "import pandas as pd\n",
    "import matplotlib.font_manager as fm\n",
    "\n",
    "# 한글 폰트 설정 (Windows, Mac, Linux 환경에 맞게 경로 수정 필요)\n",
    "# Colab, Kaggle 등 클라우드 환경에서는 추가적인 폰트 설치 코드가 필요할 수 있습니다.\n",
    "# 예: !sudo apt-get install -y fonts-nanum*\n",
    "# fm._rebuild()\n",
    "sns.set_theme(style=\"whitegrid\")\n",
    "plt.rc('font', family='NanumGothicOTF') # Windows: 'Malgun Gothic', Mac: 'AppleGothic'\n",
    "plt.rcParams['axes.unicode_minus'] = False # 마이너스 폰트 깨짐 방지\n",
    "\n",
    "# 1. 데이터 준비 (예시)\n",
    "# 실제 데이터는 이 형식에 맞게 입력하시면 됩니다.\n",
    "data = {'name': ['Random', 'Rulebased', 'Peaceful', 'Coincollctor'],\n",
    "        'kill': [0, 0.8, 0, 0.2],\n",
    "        'coin': [0, 5.4, 1, 2.8]}\n",
    "df = pd.DataFrame(data)\n",
    "\n",
    "# 2. 그래프 그리기\n",
    "# 그래프의 크기와 스타일 설정\n",
    "plt.figure(figsize=(10, 7))\n",
    "\n",
    "\n",
    "# scatterplot으로 점 그래프 생성\n",
    "ax = sns.scatterplot(x='kill', y='coin', data=df, s=150, legend=False, hue='name', palette='viridis')\n",
    "\n",
    "# 3. 그래프 꾸미기\n",
    "# 각 점에 이름 표시\n",
    "for i, row in df.iterrows():\n",
    "    plt.text(row['kill'] + 0.05, row['coin'], row['name'], fontsize=12)\n",
    "\n",
    "# 축 범위 설정\n",
    "plt.xlim(-0.5, 3.5)\n",
    "plt.ylim(-0.5, 9.5)\n",
    "\n",
    "# 제목 및 축 이름 설정\n",
    "plt.title('플레이어별 Kill & Coin 분포', fontsize=18, fontweight='bold')\n",
    "plt.xlabel('Kill 수', fontsize=14)\n",
    "plt.ylabel('Coin 수', fontsize=14)\n",
    "\n",
    "# 눈금 설정\n",
    "plt.xticks(ticks=[0, 1, 2, 3])\n",
    "plt.yticks(ticks=range(0, 10))\n",
    "\n",
    "# 그래프 표시\n",
    "plt.show()"
   ]
  },
  {
   "cell_type": "code",
   "execution_count": 7,
   "id": "b2bb656f",
   "metadata": {},
   "outputs": [
    {
     "name": "stdout",
     "output_type": "stream",
     "text": [
      "Requirement already satisfied: plotly in c:\\users\\jw\\anaconda3\\envs\\bomberman\\lib\\site-packages (6.3.1)\n",
      "Requirement already satisfied: narwhals>=1.15.1 in c:\\users\\jw\\anaconda3\\envs\\bomberman\\lib\\site-packages (from plotly) (2.8.0)\n",
      "Requirement already satisfied: packaging in c:\\users\\jw\\anaconda3\\envs\\bomberman\\lib\\site-packages (from plotly) (25.0)\n",
      "Requirement already satisfied: nbformat in c:\\users\\jw\\anaconda3\\envs\\bomberman\\lib\\site-packages (5.10.4)\n",
      "Requirement already satisfied: fastjsonschema>=2.15 in c:\\users\\jw\\anaconda3\\envs\\bomberman\\lib\\site-packages (from nbformat) (2.21.2)\n",
      "Requirement already satisfied: jsonschema>=2.6 in c:\\users\\jw\\anaconda3\\envs\\bomberman\\lib\\site-packages (from nbformat) (4.25.1)\n",
      "Requirement already satisfied: jupyter-core!=5.0.*,>=4.12 in c:\\users\\jw\\anaconda3\\envs\\bomberman\\lib\\site-packages (from nbformat) (5.8.1)\n",
      "Requirement already satisfied: traitlets>=5.1 in c:\\users\\jw\\anaconda3\\envs\\bomberman\\lib\\site-packages (from nbformat) (5.14.3)\n",
      "Requirement already satisfied: attrs>=22.2.0 in c:\\users\\jw\\anaconda3\\envs\\bomberman\\lib\\site-packages (from jsonschema>=2.6->nbformat) (25.4.0)\n",
      "Requirement already satisfied: jsonschema-specifications>=2023.03.6 in c:\\users\\jw\\anaconda3\\envs\\bomberman\\lib\\site-packages (from jsonschema>=2.6->nbformat) (2025.9.1)\n",
      "Requirement already satisfied: referencing>=0.28.4 in c:\\users\\jw\\anaconda3\\envs\\bomberman\\lib\\site-packages (from jsonschema>=2.6->nbformat) (0.37.0)\n",
      "Requirement already satisfied: rpds-py>=0.7.1 in c:\\users\\jw\\anaconda3\\envs\\bomberman\\lib\\site-packages (from jsonschema>=2.6->nbformat) (0.27.1)\n",
      "Requirement already satisfied: platformdirs>=2.5 in c:\\users\\jw\\anaconda3\\envs\\bomberman\\lib\\site-packages (from jupyter-core!=5.0.*,>=4.12->nbformat) (4.5.0)\n",
      "Requirement already satisfied: pywin32>=300 in c:\\users\\jw\\anaconda3\\envs\\bomberman\\lib\\site-packages (from jupyter-core!=5.0.*,>=4.12->nbformat) (311)\n",
      "Requirement already satisfied: typing-extensions>=4.4.0 in c:\\users\\jw\\anaconda3\\envs\\bomberman\\lib\\site-packages (from referencing>=0.28.4->jsonschema>=2.6->nbformat) (4.15.0)\n"
     ]
    }
   ],
   "source": [
    "!pip install plotly\n",
    "!pip install nbformat --upgrade nbformat"
   ]
  },
  {
   "cell_type": "code",
   "execution_count": null,
   "id": "32e0b28a",
   "metadata": {},
   "outputs": [
    {
     "data": {
      "application/vnd.plotly.v1+json": {
       "config": {
        "plotlyServerURL": "https://plot.ly"
       },
       "data": [
        {
         "customdata": [
          [
           "PlayerA"
          ],
          [
           "PlayerB"
          ],
          [
           "PlayerC"
          ],
          [
           "PlayerD"
          ]
         ],
         "hovertemplate": "<b>%{hovertext}</b><br><br>kill=%{x}<br>coin=%{y}<extra></extra>",
         "hovertext": [
          "PlayerA",
          "PlayerB",
          "PlayerC",
          "PlayerD"
         ],
         "legendgroup": "",
         "marker": {
          "color": "#636efa",
          "symbol": "circle"
         },
         "mode": "markers+text",
         "name": "",
         "orientation": "v",
         "showlegend": false,
         "text": [
          "PlayerA",
          "PlayerB",
          "PlayerC",
          "PlayerD"
         ],
         "textfont": {
          "size": 12
         },
         "textposition": "top center",
         "type": "scatter",
         "x": {
          "bdata": "AwEAAg==",
          "dtype": "i1"
         },
         "xaxis": "x",
         "y": {
          "bdata": "CAUJAw==",
          "dtype": "i1"
         },
         "yaxis": "y"
        }
       ],
       "layout": {
        "font": {
         "family": "Malgun Gothic, AppleGothic, sans-serif",
         "size": 12
        },
        "legend": {
         "tracegroupgap": 0
        },
        "template": {
         "data": {
          "bar": [
           {
            "error_x": {
             "color": "#2a3f5f"
            },
            "error_y": {
             "color": "#2a3f5f"
            },
            "marker": {
             "line": {
              "color": "#E5ECF6",
              "width": 0.5
             },
             "pattern": {
              "fillmode": "overlay",
              "size": 10,
              "solidity": 0.2
             }
            },
            "type": "bar"
           }
          ],
          "barpolar": [
           {
            "marker": {
             "line": {
              "color": "#E5ECF6",
              "width": 0.5
             },
             "pattern": {
              "fillmode": "overlay",
              "size": 10,
              "solidity": 0.2
             }
            },
            "type": "barpolar"
           }
          ],
          "carpet": [
           {
            "aaxis": {
             "endlinecolor": "#2a3f5f",
             "gridcolor": "white",
             "linecolor": "white",
             "minorgridcolor": "white",
             "startlinecolor": "#2a3f5f"
            },
            "baxis": {
             "endlinecolor": "#2a3f5f",
             "gridcolor": "white",
             "linecolor": "white",
             "minorgridcolor": "white",
             "startlinecolor": "#2a3f5f"
            },
            "type": "carpet"
           }
          ],
          "choropleth": [
           {
            "colorbar": {
             "outlinewidth": 0,
             "ticks": ""
            },
            "type": "choropleth"
           }
          ],
          "contour": [
           {
            "colorbar": {
             "outlinewidth": 0,
             "ticks": ""
            },
            "colorscale": [
             [
              0,
              "#0d0887"
             ],
             [
              0.1111111111111111,
              "#46039f"
             ],
             [
              0.2222222222222222,
              "#7201a8"
             ],
             [
              0.3333333333333333,
              "#9c179e"
             ],
             [
              0.4444444444444444,
              "#bd3786"
             ],
             [
              0.5555555555555556,
              "#d8576b"
             ],
             [
              0.6666666666666666,
              "#ed7953"
             ],
             [
              0.7777777777777778,
              "#fb9f3a"
             ],
             [
              0.8888888888888888,
              "#fdca26"
             ],
             [
              1,
              "#f0f921"
             ]
            ],
            "type": "contour"
           }
          ],
          "contourcarpet": [
           {
            "colorbar": {
             "outlinewidth": 0,
             "ticks": ""
            },
            "type": "contourcarpet"
           }
          ],
          "heatmap": [
           {
            "colorbar": {
             "outlinewidth": 0,
             "ticks": ""
            },
            "colorscale": [
             [
              0,
              "#0d0887"
             ],
             [
              0.1111111111111111,
              "#46039f"
             ],
             [
              0.2222222222222222,
              "#7201a8"
             ],
             [
              0.3333333333333333,
              "#9c179e"
             ],
             [
              0.4444444444444444,
              "#bd3786"
             ],
             [
              0.5555555555555556,
              "#d8576b"
             ],
             [
              0.6666666666666666,
              "#ed7953"
             ],
             [
              0.7777777777777778,
              "#fb9f3a"
             ],
             [
              0.8888888888888888,
              "#fdca26"
             ],
             [
              1,
              "#f0f921"
             ]
            ],
            "type": "heatmap"
           }
          ],
          "histogram": [
           {
            "marker": {
             "pattern": {
              "fillmode": "overlay",
              "size": 10,
              "solidity": 0.2
             }
            },
            "type": "histogram"
           }
          ],
          "histogram2d": [
           {
            "colorbar": {
             "outlinewidth": 0,
             "ticks": ""
            },
            "colorscale": [
             [
              0,
              "#0d0887"
             ],
             [
              0.1111111111111111,
              "#46039f"
             ],
             [
              0.2222222222222222,
              "#7201a8"
             ],
             [
              0.3333333333333333,
              "#9c179e"
             ],
             [
              0.4444444444444444,
              "#bd3786"
             ],
             [
              0.5555555555555556,
              "#d8576b"
             ],
             [
              0.6666666666666666,
              "#ed7953"
             ],
             [
              0.7777777777777778,
              "#fb9f3a"
             ],
             [
              0.8888888888888888,
              "#fdca26"
             ],
             [
              1,
              "#f0f921"
             ]
            ],
            "type": "histogram2d"
           }
          ],
          "histogram2dcontour": [
           {
            "colorbar": {
             "outlinewidth": 0,
             "ticks": ""
            },
            "colorscale": [
             [
              0,
              "#0d0887"
             ],
             [
              0.1111111111111111,
              "#46039f"
             ],
             [
              0.2222222222222222,
              "#7201a8"
             ],
             [
              0.3333333333333333,
              "#9c179e"
             ],
             [
              0.4444444444444444,
              "#bd3786"
             ],
             [
              0.5555555555555556,
              "#d8576b"
             ],
             [
              0.6666666666666666,
              "#ed7953"
             ],
             [
              0.7777777777777778,
              "#fb9f3a"
             ],
             [
              0.8888888888888888,
              "#fdca26"
             ],
             [
              1,
              "#f0f921"
             ]
            ],
            "type": "histogram2dcontour"
           }
          ],
          "mesh3d": [
           {
            "colorbar": {
             "outlinewidth": 0,
             "ticks": ""
            },
            "type": "mesh3d"
           }
          ],
          "parcoords": [
           {
            "line": {
             "colorbar": {
              "outlinewidth": 0,
              "ticks": ""
             }
            },
            "type": "parcoords"
           }
          ],
          "pie": [
           {
            "automargin": true,
            "type": "pie"
           }
          ],
          "scatter": [
           {
            "fillpattern": {
             "fillmode": "overlay",
             "size": 10,
             "solidity": 0.2
            },
            "type": "scatter"
           }
          ],
          "scatter3d": [
           {
            "line": {
             "colorbar": {
              "outlinewidth": 0,
              "ticks": ""
             }
            },
            "marker": {
             "colorbar": {
              "outlinewidth": 0,
              "ticks": ""
             }
            },
            "type": "scatter3d"
           }
          ],
          "scattercarpet": [
           {
            "marker": {
             "colorbar": {
              "outlinewidth": 0,
              "ticks": ""
             }
            },
            "type": "scattercarpet"
           }
          ],
          "scattergeo": [
           {
            "marker": {
             "colorbar": {
              "outlinewidth": 0,
              "ticks": ""
             }
            },
            "type": "scattergeo"
           }
          ],
          "scattergl": [
           {
            "marker": {
             "colorbar": {
              "outlinewidth": 0,
              "ticks": ""
             }
            },
            "type": "scattergl"
           }
          ],
          "scattermap": [
           {
            "marker": {
             "colorbar": {
              "outlinewidth": 0,
              "ticks": ""
             }
            },
            "type": "scattermap"
           }
          ],
          "scattermapbox": [
           {
            "marker": {
             "colorbar": {
              "outlinewidth": 0,
              "ticks": ""
             }
            },
            "type": "scattermapbox"
           }
          ],
          "scatterpolar": [
           {
            "marker": {
             "colorbar": {
              "outlinewidth": 0,
              "ticks": ""
             }
            },
            "type": "scatterpolar"
           }
          ],
          "scatterpolargl": [
           {
            "marker": {
             "colorbar": {
              "outlinewidth": 0,
              "ticks": ""
             }
            },
            "type": "scatterpolargl"
           }
          ],
          "scatterternary": [
           {
            "marker": {
             "colorbar": {
              "outlinewidth": 0,
              "ticks": ""
             }
            },
            "type": "scatterternary"
           }
          ],
          "surface": [
           {
            "colorbar": {
             "outlinewidth": 0,
             "ticks": ""
            },
            "colorscale": [
             [
              0,
              "#0d0887"
             ],
             [
              0.1111111111111111,
              "#46039f"
             ],
             [
              0.2222222222222222,
              "#7201a8"
             ],
             [
              0.3333333333333333,
              "#9c179e"
             ],
             [
              0.4444444444444444,
              "#bd3786"
             ],
             [
              0.5555555555555556,
              "#d8576b"
             ],
             [
              0.6666666666666666,
              "#ed7953"
             ],
             [
              0.7777777777777778,
              "#fb9f3a"
             ],
             [
              0.8888888888888888,
              "#fdca26"
             ],
             [
              1,
              "#f0f921"
             ]
            ],
            "type": "surface"
           }
          ],
          "table": [
           {
            "cells": {
             "fill": {
              "color": "#EBF0F8"
             },
             "line": {
              "color": "white"
             }
            },
            "header": {
             "fill": {
              "color": "#C8D4E3"
             },
             "line": {
              "color": "white"
             }
            },
            "type": "table"
           }
          ]
         },
         "layout": {
          "annotationdefaults": {
           "arrowcolor": "#2a3f5f",
           "arrowhead": 0,
           "arrowwidth": 1
          },
          "autotypenumbers": "strict",
          "coloraxis": {
           "colorbar": {
            "outlinewidth": 0,
            "ticks": ""
           }
          },
          "colorscale": {
           "diverging": [
            [
             0,
             "#8e0152"
            ],
            [
             0.1,
             "#c51b7d"
            ],
            [
             0.2,
             "#de77ae"
            ],
            [
             0.3,
             "#f1b6da"
            ],
            [
             0.4,
             "#fde0ef"
            ],
            [
             0.5,
             "#f7f7f7"
            ],
            [
             0.6,
             "#e6f5d0"
            ],
            [
             0.7,
             "#b8e186"
            ],
            [
             0.8,
             "#7fbc41"
            ],
            [
             0.9,
             "#4d9221"
            ],
            [
             1,
             "#276419"
            ]
           ],
           "sequential": [
            [
             0,
             "#0d0887"
            ],
            [
             0.1111111111111111,
             "#46039f"
            ],
            [
             0.2222222222222222,
             "#7201a8"
            ],
            [
             0.3333333333333333,
             "#9c179e"
            ],
            [
             0.4444444444444444,
             "#bd3786"
            ],
            [
             0.5555555555555556,
             "#d8576b"
            ],
            [
             0.6666666666666666,
             "#ed7953"
            ],
            [
             0.7777777777777778,
             "#fb9f3a"
            ],
            [
             0.8888888888888888,
             "#fdca26"
            ],
            [
             1,
             "#f0f921"
            ]
           ],
           "sequentialminus": [
            [
             0,
             "#0d0887"
            ],
            [
             0.1111111111111111,
             "#46039f"
            ],
            [
             0.2222222222222222,
             "#7201a8"
            ],
            [
             0.3333333333333333,
             "#9c179e"
            ],
            [
             0.4444444444444444,
             "#bd3786"
            ],
            [
             0.5555555555555556,
             "#d8576b"
            ],
            [
             0.6666666666666666,
             "#ed7953"
            ],
            [
             0.7777777777777778,
             "#fb9f3a"
            ],
            [
             0.8888888888888888,
             "#fdca26"
            ],
            [
             1,
             "#f0f921"
            ]
           ]
          },
          "colorway": [
           "#636efa",
           "#EF553B",
           "#00cc96",
           "#ab63fa",
           "#FFA15A",
           "#19d3f3",
           "#FF6692",
           "#B6E880",
           "#FF97FF",
           "#FECB52"
          ],
          "font": {
           "color": "#2a3f5f"
          },
          "geo": {
           "bgcolor": "white",
           "lakecolor": "white",
           "landcolor": "#E5ECF6",
           "showlakes": true,
           "showland": true,
           "subunitcolor": "white"
          },
          "hoverlabel": {
           "align": "left"
          },
          "hovermode": "closest",
          "mapbox": {
           "style": "light"
          },
          "paper_bgcolor": "white",
          "plot_bgcolor": "#E5ECF6",
          "polar": {
           "angularaxis": {
            "gridcolor": "white",
            "linecolor": "white",
            "ticks": ""
           },
           "bgcolor": "#E5ECF6",
           "radialaxis": {
            "gridcolor": "white",
            "linecolor": "white",
            "ticks": ""
           }
          },
          "scene": {
           "xaxis": {
            "backgroundcolor": "#E5ECF6",
            "gridcolor": "white",
            "gridwidth": 2,
            "linecolor": "white",
            "showbackground": true,
            "ticks": "",
            "zerolinecolor": "white"
           },
           "yaxis": {
            "backgroundcolor": "#E5ECF6",
            "gridcolor": "white",
            "gridwidth": 2,
            "linecolor": "white",
            "showbackground": true,
            "ticks": "",
            "zerolinecolor": "white"
           },
           "zaxis": {
            "backgroundcolor": "#E5ECF6",
            "gridcolor": "white",
            "gridwidth": 2,
            "linecolor": "white",
            "showbackground": true,
            "ticks": "",
            "zerolinecolor": "white"
           }
          },
          "shapedefaults": {
           "line": {
            "color": "#2a3f5f"
           }
          },
          "ternary": {
           "aaxis": {
            "gridcolor": "white",
            "linecolor": "white",
            "ticks": ""
           },
           "baxis": {
            "gridcolor": "white",
            "linecolor": "white",
            "ticks": ""
           },
           "bgcolor": "#E5ECF6",
           "caxis": {
            "gridcolor": "white",
            "linecolor": "white",
            "ticks": ""
           }
          },
          "title": {
           "x": 0.05
          },
          "xaxis": {
           "automargin": true,
           "gridcolor": "white",
           "linecolor": "white",
           "ticks": "",
           "title": {
            "standoff": 15
           },
           "zerolinecolor": "white",
           "zerolinewidth": 2
          },
          "yaxis": {
           "automargin": true,
           "gridcolor": "white",
           "linecolor": "white",
           "ticks": "",
           "title": {
            "standoff": 15
           },
           "zerolinecolor": "white",
           "zerolinewidth": 2
          }
         }
        },
        "title": {
         "font": {
          "size": 18
         },
         "text": "<b>플레이어별 Kill & Coin 분포 (Interactive)</b>"
        },
        "xaxis": {
         "anchor": "y",
         "domain": [
          0,
          1
         ],
         "range": [
          -0.5,
          3.5
         ],
         "tickvals": [
          0,
          1,
          2,
          3
         ],
         "title": {
          "text": "Kill 수"
         }
        },
        "yaxis": {
         "anchor": "x",
         "domain": [
          0,
          1
         ],
         "range": [
          -0.5,
          9.5
         ],
         "title": {
          "text": "Coin 수"
         }
        }
       }
      }
     },
     "metadata": {},
     "output_type": "display_data"
    }
   ],
   "source": [
    "import plotly.express as px\n",
    "import pandas as pd\n",
    "\n",
    "# 1. 데이터 준비 (예시)\n",
    "data = {'이름': ['PlayerA', 'PlayerB', 'PlayerC', 'PlayerD'],\n",
    "        'kill': [3, 1, 0, 2],\n",
    "        'coin': [8, 5, 9, 3]}\n",
    "df = pd.DataFrame(data)\n",
    "\n",
    "# 2. 인터랙티브 그래프 생성\n",
    "fig = px.scatter(df,\n",
    "                 x='kill',\n",
    "                 y='coin',\n",
    "                 text='이름',  # 점 근처에 텍스트 표시\n",
    "                 hover_name='이름', # 마우스를 올렸을 때 표시될 이름\n",
    "                 hover_data={'kill': True, 'coin': True, '이름': False}, # 호버 데이터 커스텀\n",
    "                 title='<b>플레이어별 Kill & Coin 분포 (Interactive)</b>'\n",
    "                )\n",
    "\n",
    "# 3. 그래프 레이아웃 업데이트\n",
    "fig.update_traces(textposition='top center', textfont_size=12) # 텍스트 위치 및 크기\n",
    "\n",
    "fig.update_layout(\n",
    "    xaxis_title='Kill 수',\n",
    "    yaxis_title='Coin 수',\n",
    "    xaxis=dict(range=[-0.5, 3.5], tickvals=[0, 1, 2, 3]), # x축 범위 및 눈금\n",
    "    yaxis=dict(range=[-0.5, 9.5]), # y축 범위\n",
    "    font=dict(family=\"Malgun Gothic, AppleGothic, sans-serif\", size=12),\n",
    "    title_font_size=18\n",
    ")\n",
    "\n",
    "\n",
    "# 그래프 표시\n",
    "fig.show()"
   ]
  },
  {
   "cell_type": "code",
   "execution_count": 6,
   "id": "524bd0bd",
   "metadata": {},
   "outputs": [
    {
     "name": "stdout",
     "output_type": "stream",
     "text": [
      "Matplotlib 폰트 캐시 폴더: C:\\Users\\jw\\.matplotlib\n",
      "'fontlist-v390.json' 캐시 파일을 삭제했습니다.\n"
     ]
    }
   ],
   "source": [
    "import matplotlib\n",
    "import matplotlib.font_manager as fm\n",
    "import os\n",
    "\n",
    "# 폰트 캐시 파일 경로 가져오기\n",
    "font_cache_path = matplotlib.get_cachedir()\n",
    "print(f\"Matplotlib 폰트 캐시 폴더: {font_cache_path}\")\n",
    "\n",
    "# 폴더 내의 fontlist-vXXX.json 파일들 삭제\n",
    "for file in os.listdir(font_cache_path):\n",
    "    if file.startswith('fontlist-v') and file.endswith('.json'):\n",
    "        os.remove(os.path.join(font_cache_path, file))\n",
    "        print(f\"'{file}' 캐시 파일을 삭제했습니다.\")"
   ]
  },
  {
   "cell_type": "code",
   "execution_count": null,
   "id": "4c56f310",
   "metadata": {},
   "outputs": [
    {
     "data": {
      "image/png": "[encoded data removed]",
      "text/plain": [
       "<Figure size 1200x800 with 1 Axes>"
      ]
     },
     "metadata": {},
     "output_type": "display_data"
    }
   ],
   "source": [
    "import matplotlib.pyplot as plt\n",
    "import seaborn as sns\n",
    "import pandas as pd\n",
    "import matplotlib.font_manager as fm\n",
    "\n",
    "# ==================== 사용자 입력 영역 ====================\n",
    "# 여기에 플레이어 데이터를 입력하세요.\n",
    "player_data = [\n",
    "    {'name': 'Random', 'kill': 0, 'coin': 0},\n",
    "    {'name': 'Rulebased', 'kill': 0.8, 'coin': 5.4},\n",
    "    {'name': 'Peaceful', 'kill': 0, 'coin': 1},\n",
    "    {'name': 'Coincollctor', 'kill': 0.2, 'coin': 2.8},\n",
    "]\n",
    "# =======================================================\n",
    "sns.set_theme(style=\"whitegrid\", palette=\"muted\")\n",
    "\n",
    "# 폰트 설정 (환경에 맞게 수정)\n",
    "# 아래 코드 실행 후에도 한글이 깨지면, 사용 중인 OS에 맞는 폰트 이름을 확인하여 'font_name' 변수를 수정해주세요.\n",
    "try:\n",
    "    # Windows\n",
    "    font_name = 'NanumGothicOTF'\n",
    "    plt.rc('font', family=font_name)\n",
    "except:\n",
    "    try:\n",
    "        # Mac\n",
    "        font_name = 'AppleGothic'\n",
    "        plt.rc('font', family=font_name)\n",
    "    except:\n",
    "        font_name = 'NanumGothic'\n",
    "        plt.rc('font', family=font_name)\n",
    "\n",
    "plt.rcParams['axes.unicode_minus'] = False\n",
    "\n",
    "# 데이터프레임 생성\n",
    "df = pd.DataFrame(player_data)\n",
    "\n",
    "# 그래프 생성\n",
    "plt.figure(figsize=(12, 8))\n",
    "\n",
    "# 산점도 그리기\n",
    "plot = sns.scatterplot(\n",
    "    x='kill',\n",
    "    y='coin',\n",
    "    data=df,\n",
    "    s=200,  # 점 크기\n",
    "    alpha=0.8, # 투명도\n",
    "    hue='name', # 이름별로 색상 구분\n",
    "    legend=True # 범례 숨기기\n",
    ")\n",
    "\n",
    "# 각 점에 이름 텍스트 추가\n",
    "for i in range(df.shape[0]):\n",
    "    plt.text(\n",
    "        x=df.kill[i] + 0.05,\n",
    "        y=df.coin[i],\n",
    "        s=df.name[i],\n",
    "        fontdict=dict(color='black', size=11, weight='semibold')\n",
    "    )\n",
    "                 \n",
    "# 그래프 제목 및 라벨\n",
    "plt.title('선수별 Kills & Coins 현황', fontsize=20, pad=20, fontweight='bold')\n",
    "plt.xlabel('Kills', fontsize=15)\n",
    "plt.ylabel('Coins', fontsize=15)\n",
    "\n",
    "# # 축 범위 및 눈금 설정\n",
    "# plt.xlim(-1, 1)\n",
    "# plt.ylim(-6, 6)\n",
    "# plt.xticks(ticks=[i for i in range(-2,2)], fontsize=12)\n",
    "# plt.yticks(ticks=[i for i in range(-6,6)], fontsize=12)\n",
    "\n",
    "# # 그리드를 더 촘촘하게 표시\n",
    "# plt.grid(True, which='both', linestyle='--', linewidth=0.5)\n",
    "\n",
    "# # # 그래프를 이미지 파일로 저장\n",
    "# # plt.savefig('player_kill_coin_graph.png', dpi=300, bbox_inches='tight')\n",
    "\n",
    "# # 그래프 보여주기\n",
    "# plt.show()\n",
    "# --- 4. 축(Spines)을 (0,0) 중심으로 이동 및 스타일링 (핵심 요청사항) ---\n",
    "# 위쪽과 오른쪽 테두리(spine)를 보이지 않게 설정\n",
    "ax.spines['top'].set_visible(False)\n",
    "ax.spines['right'].set_visible(False)\n",
    "\n",
    "# 아래쪽 테두리를 y=0 위치로 이동\n",
    "ax.spines['bottom'].set_position(('data', -5))\n",
    "# 왼쪽 테두리를 x=0 위치로 이동\n",
    "ax.spines['left'].set_position(('data', -2))\n",
    "\n",
    "# 이동한 축을 강조하기 위해 색상과 두께 설정\n",
    "ax.spines['bottom'].set_color('red')\n",
    "ax.spines['left'].set_color('red')\n",
    "ax.spines['bottom'].set_linewidth(3)\n",
    "ax.spines['left'].set_linewidth(3)\n",
    "\n",
    "# --- 5. 제목 및 라벨 설정 ---\n",
    "ax.set_title('에이전트별 Kills & Coins 분포', fontsize=20, pad=20, fontweight='bold')\n",
    "# 라벨 위치를 축의 끝으로 조정\n",
    "ax.set_xlabel('Kills', fontsize=15, loc='right')\n",
    "ax.set_ylabel('Coins', fontsize=15, loc='top', rotation=0)\n",
    "\n",
    "# --- 6. 축 범위 및 눈금 설정 ---\n",
    "ax.set_xlim(-1, 1)\n",
    "ax.set_ylim(-6, 6)\n",
    "ax.set_xticks([i/2 for i in range(-2, 3, 1)]) # 눈금을 0.5 단위로 설정\n",
    "ax.set_yticks([i for i in range(-6, 7, 2)])   # 눈금을 2 단위로 설정\n",
    "\n",
    "# --- 7. 그리드 제거 ---\n",
    "ax.grid(False)\n",
    "\n",
    "# 그래프 보여주기\n",
    "plt.show()"
   ]
  }
 ],
 "metadata": {
  "kernelspec": {
   "display_name": "bomberman",
   "language": "python",
   "name": "python3"
  },
  "language_info": {
   "codemirror_mode": {
    "name": "ipython",
    "version": 3
   },
   "file_extension": ".py",
   "mimetype": "text/x-python",
   "name": "python",
   "nbconvert_exporter": "python",
   "pygments_lexer": "ipython3",
   "version": "3.11.14"
  }
 },
 "nbformat": 4,
 "nbformat_minor": 5
}
